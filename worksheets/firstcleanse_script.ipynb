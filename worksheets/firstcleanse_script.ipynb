{
 "cells": [
  {
   "cell_type": "code",
   "execution_count": 1,
   "metadata": {},
   "outputs": [],
   "source": [
    "import pandas as pd\n",
    "import numpy as np"
   ]
  },
  {
   "cell_type": "code",
   "execution_count": 2,
   "metadata": {},
   "outputs": [],
   "source": [
    "#Sets up the datetime/accession number\n",
    "def first_cleanse(file):\n",
    "    df = pd.read_csv(file)\n",
    "    df['datetime'] = pd.to_datetime(df['date'] + ' ' + df['time'])\n",
    "    df = df.set_index(df['datetime'])\n",
    "    df = df.drop(['date','time','datetime'],axis=1)\n",
    "    return df"
   ]
  },
  {
   "cell_type": "code",
   "execution_count": 3,
   "metadata": {},
   "outputs": [],
   "source": [
    "filename = 'testing05'"
   ]
  },
  {
   "cell_type": "code",
   "execution_count": 4,
   "metadata": {},
   "outputs": [],
   "source": [
    "df = first_cleanse(filename)"
   ]
  },
  {
   "cell_type": "code",
   "execution_count": 5,
   "metadata": {},
   "outputs": [
    {
     "data": {
      "text/plain": [
       "490377"
      ]
     },
     "execution_count": 5,
     "metadata": {},
     "output_type": "execute_result"
    }
   ],
   "source": [
    "def filterer(df,threshold):\n",
    "    df['Counts'] = (df.groupby(['datetime'])['accession'].transform('count'))\n",
    "    df['Normalized'] = (df['Counts']-min(df['Counts'])) / (max(df['Counts']) - min(df['Counts']))\n",
    "    return df[df['Normalized'] > threshold]"
   ]
  },
  {
   "cell_type": "code",
   "execution_count": 6,
   "metadata": {},
   "outputs": [],
   "source": [
    "df['Normalized'] = (df['Counts']-min(df['Counts'])) / (max(df['Counts']) - min(df['Counts']))"
   ]
  },
  {
   "cell_type": "code",
   "execution_count": 7,
   "metadata": {},
   "outputs": [
    {
     "name": "stdout",
     "output_type": "stream",
     "text": [
      "227300 245188.5\n"
     ]
    }
   ],
   "source": [
    "#I feel as though here, I could write a math thing that would auto solve this problem of finding x where x is the percentage needed to take half of the documents\n",
    "\n",
    "half = .5*df.shape[0]\n",
    "df_filtered = df[df['Normalized'] > .25]\n",
    "print(df_filtered.shape[0], half)"
   ]
  },
  {
   "cell_type": "code",
   "execution_count": 8,
   "metadata": {},
   "outputs": [
    {
     "data": {
      "text/html": [
       "<div>\n",
       "<style scoped>\n",
       "    .dataframe tbody tr th:only-of-type {\n",
       "        vertical-align: middle;\n",
       "    }\n",
       "\n",
       "    .dataframe tbody tr th {\n",
       "        vertical-align: top;\n",
       "    }\n",
       "\n",
       "    .dataframe thead th {\n",
       "        text-align: right;\n",
       "    }\n",
       "</style>\n",
       "<table border=\"1\" class=\"dataframe\">\n",
       "  <thead>\n",
       "    <tr style=\"text-align: right;\">\n",
       "      <th></th>\n",
       "      <th>accession</th>\n",
       "      <th>Counts</th>\n",
       "      <th>Normalized</th>\n",
       "    </tr>\n",
       "    <tr>\n",
       "      <th>datetime</th>\n",
       "      <th></th>\n",
       "      <th></th>\n",
       "      <th></th>\n",
       "    </tr>\n",
       "  </thead>\n",
       "  <tbody>\n",
       "    <tr>\n",
       "      <td>2006-06-30 00:00:25</td>\n",
       "      <td>0000950134-06-004429</td>\n",
       "      <td>10</td>\n",
       "      <td>0.346154</td>\n",
       "    </tr>\n",
       "    <tr>\n",
       "      <td>2006-06-30 00:00:25</td>\n",
       "      <td>0001125282-06-002603</td>\n",
       "      <td>10</td>\n",
       "      <td>0.346154</td>\n",
       "    </tr>\n",
       "    <tr>\n",
       "      <td>2006-06-30 00:00:25</td>\n",
       "      <td>0001047469-06-005753</td>\n",
       "      <td>10</td>\n",
       "      <td>0.346154</td>\n",
       "    </tr>\n",
       "    <tr>\n",
       "      <td>2006-06-30 00:00:25</td>\n",
       "      <td>0000950123-04-014977</td>\n",
       "      <td>10</td>\n",
       "      <td>0.346154</td>\n",
       "    </tr>\n",
       "    <tr>\n",
       "      <td>2006-06-30 00:00:25</td>\n",
       "      <td>0001181431-04-031072</td>\n",
       "      <td>10</td>\n",
       "      <td>0.346154</td>\n",
       "    </tr>\n",
       "    <tr>\n",
       "      <td>...</td>\n",
       "      <td>...</td>\n",
       "      <td>...</td>\n",
       "      <td>...</td>\n",
       "    </tr>\n",
       "    <tr>\n",
       "      <td>2006-06-30 23:59:53</td>\n",
       "      <td>0001193125-04-017196</td>\n",
       "      <td>9</td>\n",
       "      <td>0.307692</td>\n",
       "    </tr>\n",
       "    <tr>\n",
       "      <td>2006-06-30 23:59:53</td>\n",
       "      <td>0001209191-05-001828</td>\n",
       "      <td>9</td>\n",
       "      <td>0.307692</td>\n",
       "    </tr>\n",
       "    <tr>\n",
       "      <td>2006-06-30 23:59:53</td>\n",
       "      <td>0001209191-05-001828</td>\n",
       "      <td>9</td>\n",
       "      <td>0.307692</td>\n",
       "    </tr>\n",
       "    <tr>\n",
       "      <td>2006-06-30 23:59:53</td>\n",
       "      <td>0001193125-06-139595</td>\n",
       "      <td>9</td>\n",
       "      <td>0.307692</td>\n",
       "    </tr>\n",
       "    <tr>\n",
       "      <td>2006-06-30 23:59:53</td>\n",
       "      <td>9999999997-06-028183</td>\n",
       "      <td>9</td>\n",
       "      <td>0.307692</td>\n",
       "    </tr>\n",
       "  </tbody>\n",
       "</table>\n",
       "<p>227300 rows × 3 columns</p>\n",
       "</div>"
      ],
      "text/plain": [
       "                                accession  Counts  Normalized\n",
       "datetime                                                     \n",
       "2006-06-30 00:00:25  0000950134-06-004429      10    0.346154\n",
       "2006-06-30 00:00:25  0001125282-06-002603      10    0.346154\n",
       "2006-06-30 00:00:25  0001047469-06-005753      10    0.346154\n",
       "2006-06-30 00:00:25  0000950123-04-014977      10    0.346154\n",
       "2006-06-30 00:00:25  0001181431-04-031072      10    0.346154\n",
       "...                                   ...     ...         ...\n",
       "2006-06-30 23:59:53  0001193125-04-017196       9    0.307692\n",
       "2006-06-30 23:59:53  0001209191-05-001828       9    0.307692\n",
       "2006-06-30 23:59:53  0001209191-05-001828       9    0.307692\n",
       "2006-06-30 23:59:53  0001193125-06-139595       9    0.307692\n",
       "2006-06-30 23:59:53  9999999997-06-028183       9    0.307692\n",
       "\n",
       "[227300 rows x 3 columns]"
      ]
     },
     "execution_count": 8,
     "metadata": {},
     "output_type": "execute_result"
    }
   ],
   "source": [
    "df_filtered"
   ]
  },
  {
   "cell_type": "code",
   "execution_count": 14,
   "metadata": {},
   "outputs": [
    {
     "data": {
      "text/plain": [
       "<matplotlib.axes._subplots.AxesSubplot at 0x11c939b50>"
      ]
     },
     "execution_count": 14,
     "metadata": {},
     "output_type": "execute_result"
    },
    {
     "data": {
      "image/png": "[encoded data removed]",
      "text/plain": [
       "<Figure size 432x288 with 1 Axes>"
      ]
     },
     "metadata": {
      "needs_background": "light"
     },
     "output_type": "display_data"
    }
   ],
   "source": [
    "import seaborn as sns \n",
    "import matplotlib.pyplot as plt \n",
    "%matplotlib inline \n",
    "\n",
    "#sns.distplot(df['Counts'])\n",
    "sns.distplot(df['Normalized'])"
   ]
  },
  {
   "cell_type": "code",
   "execution_count": 22,
   "metadata": {},
   "outputs": [
    {
     "data": {
      "text/plain": [
       "(array([732491.95833333, 732492.08333333, 732492.20833333, 732492.33333333,\n",
       "        732492.45833333, 732492.58333333, 732492.70833333, 732492.83333333,\n",
       "        732492.95833333]), <a list of 9 Text xticklabel objects>)"
      ]
     },
     "execution_count": 22,
     "metadata": {},
     "output_type": "execute_result"
    },
    {
     "data": {
      "image/png": "[encoded data removed]",
      "text/plain": [
       "<Figure size 432x288 with 1 Axes>"
      ]
     },
     "metadata": {
      "needs_background": "light"
     },
     "output_type": "display_data"
    }
   ],
   "source": [
    "plt.plot(df_filtered.index.to_pydatetime(), df_filtered['Normalized'])\n",
    "plt.xticks(rotation=90)"
   ]
  },
  {
   "cell_type": "code",
   "execution_count": null,
   "metadata": {},
   "outputs": [],
   "source": []
  }
 ],
 "metadata": {
  "kernelspec": {
   "display_name": "Python 3",
   "language": "python",
   "name": "python3"
  },
  "language_info": {
   "codemirror_mode": {
    "name": "ipython",
    "version": 3
   },
   "file_extension": ".py",
   "mimetype": "text/x-python",
   "name": "python",
   "nbconvert_exporter": "python",
   "pygments_lexer": "ipython3",
   "version": "3.7.4"
  }
 },
 "nbformat": 4,
 "nbformat_minor": 2
}
