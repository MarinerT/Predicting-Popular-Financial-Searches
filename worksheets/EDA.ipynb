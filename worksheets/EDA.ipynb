{
 "cells": [
  {
   "cell_type": "code",
   "execution_count": 1,
   "metadata": {},
   "outputs": [],
   "source": [
    "import pandas as pd\n",
    "import numpy as np\n",
    "import matplotlib.pyplot as plt\n",
    "import os\n",
    "import itertools\n",
    "from scipy import signal\n",
    "from scipy import stats\n",
    "\n",
    "import statsmodels.api as sm\n",
    "from statsmodels.tsa.arima_model import ARIMA\n",
    "from statsmodels.tsa.arima_process import ArmaProcess\n",
    "from statsmodels.tsa.statespace.sarimax import SARIMAX\n",
    "from statsmodels.tsa.stattools import adfuller\n",
    "\n",
    "%matplotlib inline"
   ]
  },
  {
   "cell_type": "code",
   "execution_count": 2,
   "metadata": {},
   "outputs": [],
   "source": [
    "file = '~/galvanize/capstones/PredictingSearches-on-EDGAR/Logs/170403.csv'\n",
    "df = pd.read_csv(file, names=['IP','Date','Time','Accession'])"
   ]
  },
  {
   "cell_type": "code",
   "execution_count": 3,
   "metadata": {},
   "outputs": [],
   "source": [
    "Uniq = df.Accession.unique()"
   ]
  },
  {
   "cell_type": "code",
   "execution_count": 32,
   "metadata": {},
   "outputs": [
    {
     "ename": "NameError",
     "evalue": "name 'Uniq' is not defined",
     "output_type": "error",
     "traceback": [
      "\u001b[0;31m---------------------------------------------------------------------------\u001b[0m",
      "\u001b[0;31mNameError\u001b[0m                                 Traceback (most recent call last)",
      "\u001b[0;32m<ipython-input-32-8585733ed9ab>\u001b[0m in \u001b[0;36m<module>\u001b[0;34m\u001b[0m\n\u001b[0;32m----> 1\u001b[0;31m \u001b[0mu\u001b[0m \u001b[0;34m=\u001b[0m \u001b[0mnp\u001b[0m\u001b[0;34m.\u001b[0m\u001b[0mrandom\u001b[0m\u001b[0;34m.\u001b[0m\u001b[0mchoice\u001b[0m\u001b[0;34m(\u001b[0m\u001b[0mUniq\u001b[0m\u001b[0;34m,\u001b[0m \u001b[0;36m100000\u001b[0m\u001b[0;34m)\u001b[0m\u001b[0;34m\u001b[0m\u001b[0;34m\u001b[0m\u001b[0m\n\u001b[0m\u001b[1;32m      2\u001b[0m \u001b[0;34m\u001b[0m\u001b[0m\n\u001b[1;32m      3\u001b[0m \u001b[0;31m# missing_zero_values_table(df)\u001b[0m\u001b[0;34m\u001b[0m\u001b[0;34m\u001b[0m\u001b[0;34m\u001b[0m\u001b[0m\n\u001b[1;32m      4\u001b[0m \u001b[0;34m\u001b[0m\u001b[0m\n\u001b[1;32m      5\u001b[0m \u001b[0;31m## take 100,000 of unique documents, randomly\u001b[0m\u001b[0;34m\u001b[0m\u001b[0;34m\u001b[0m\u001b[0;34m\u001b[0m\u001b[0m\n",
      "\u001b[0;31mNameError\u001b[0m: name 'Uniq' is not defined"
     ]
    }
   ],
   "source": [
    "u = np.random.choice(Uniq, 100000)\n",
    "\n",
    "# missing_zero_values_table(df)\n",
    "\n",
    "## take 100,000 of unique documents, randomly\n",
    "## cumcount hourly/ trend per day\n",
    "\n",
    "## create features for slope, polynomial regression\n",
    "## for loops\n",
    "## eventually"
   ]
  },
  {
   "cell_type": "code",
   "execution_count": 31,
   "metadata": {},
   "outputs": [
    {
     "ename": "NameError",
     "evalue": "name 'u' is not defined",
     "output_type": "error",
     "traceback": [
      "\u001b[0;31m---------------------------------------------------------------------------\u001b[0m",
      "\u001b[0;31mNameError\u001b[0m                                 Traceback (most recent call last)",
      "\u001b[0;32m<ipython-input-31-21ac37485d76>\u001b[0m in \u001b[0;36m<module>\u001b[0;34m\u001b[0m\n\u001b[1;32m      1\u001b[0m \u001b[0;31m#DataFrame filtered for the Unique 100000\u001b[0m\u001b[0;34m\u001b[0m\u001b[0;34m\u001b[0m\u001b[0;34m\u001b[0m\u001b[0m\n\u001b[0;32m----> 2\u001b[0;31m \u001b[0mdf1\u001b[0m \u001b[0;34m=\u001b[0m \u001b[0mdf\u001b[0m\u001b[0;34m[\u001b[0m\u001b[0mdf\u001b[0m\u001b[0;34m[\u001b[0m\u001b[0;34m'Accession'\u001b[0m\u001b[0;34m]\u001b[0m\u001b[0;34m.\u001b[0m\u001b[0misin\u001b[0m\u001b[0;34m(\u001b[0m\u001b[0mu\u001b[0m\u001b[0;34m)\u001b[0m\u001b[0;34m]\u001b[0m\u001b[0;34m\u001b[0m\u001b[0;34m\u001b[0m\u001b[0m\n\u001b[0m",
      "\u001b[0;31mNameError\u001b[0m: name 'u' is not defined"
     ]
    }
   ],
   "source": [
    "#DataFrame filtered for the Unique 100000\n",
    "df1 = df[df['Accession'].isin(u)]"
   ]
  },
  {
   "cell_type": "code",
   "execution_count": 29,
   "metadata": {},
   "outputs": [
    {
     "ename": "NameError",
     "evalue": "name 'df1' is not defined",
     "output_type": "error",
     "traceback": [
      "\u001b[0;31m---------------------------------------------------------------------------\u001b[0m",
      "\u001b[0;31mNameError\u001b[0m                                 Traceback (most recent call last)",
      "\u001b[0;32m<ipython-input-29-71ba56c3a995>\u001b[0m in \u001b[0;36m<module>\u001b[0;34m\u001b[0m\n\u001b[0;32m----> 1\u001b[0;31m \u001b[0mdf1\u001b[0m \u001b[0;34m=\u001b[0m \u001b[0mdf1\u001b[0m\u001b[0;34m.\u001b[0m\u001b[0mreset_index\u001b[0m\u001b[0;34m(\u001b[0m\u001b[0;34m)\u001b[0m\u001b[0;34m\u001b[0m\u001b[0;34m\u001b[0m\u001b[0m\n\u001b[0m",
      "\u001b[0;31mNameError\u001b[0m: name 'df1' is not defined"
     ]
    }
   ],
   "source": [
    "df1 = df1.reset_index()"
   ]
  },
  {
   "cell_type": "code",
   "execution_count": 3,
   "metadata": {},
   "outputs": [],
   "source": [
    "df['Datetime'] = df['Date'] + ' ' + df['Time']"
   ]
  },
  {
   "cell_type": "code",
   "execution_count": 4,
   "metadata": {},
   "outputs": [],
   "source": [
    "df['Datetime'] = pd.to_datetime(df['Datetime'])"
   ]
  },
  {
   "cell_type": "code",
   "execution_count": 13,
   "metadata": {},
   "outputs": [],
   "source": [
    "df['Counts'] = df.groupby([df.Datetime.dt.hour,df.Accession]).cumcount()+1"
   ]
  },
  {
   "cell_type": "code",
   "execution_count": 15,
   "metadata": {},
   "outputs": [
    {
     "data": {
      "text/html": [
       "<div>\n",
       "<style scoped>\n",
       "    .dataframe tbody tr th:only-of-type {\n",
       "        vertical-align: middle;\n",
       "    }\n",
       "\n",
       "    .dataframe tbody tr th {\n",
       "        vertical-align: top;\n",
       "    }\n",
       "\n",
       "    .dataframe thead th {\n",
       "        text-align: right;\n",
       "    }\n",
       "</style>\n",
       "<table border=\"1\" class=\"dataframe\">\n",
       "  <thead>\n",
       "    <tr style=\"text-align: right;\">\n",
       "      <th></th>\n",
       "      <th>IP</th>\n",
       "      <th>Date</th>\n",
       "      <th>Time</th>\n",
       "      <th>Accession</th>\n",
       "      <th>Datetime</th>\n",
       "      <th>Counts</th>\n",
       "    </tr>\n",
       "  </thead>\n",
       "  <tbody>\n",
       "    <tr>\n",
       "      <th>0</th>\n",
       "      <td>100.36.120.gfa</td>\n",
       "      <td>2017-04-03</td>\n",
       "      <td>00:00:00</td>\n",
       "      <td>0001104659-12-022840</td>\n",
       "      <td>2017-04-03</td>\n",
       "      <td>1</td>\n",
       "    </tr>\n",
       "    <tr>\n",
       "      <th>1</th>\n",
       "      <td>100.36.120.gfa</td>\n",
       "      <td>2017-04-03</td>\n",
       "      <td>00:00:00</td>\n",
       "      <td>0001140361-12-011496</td>\n",
       "      <td>2017-04-03</td>\n",
       "      <td>1</td>\n",
       "    </tr>\n",
       "    <tr>\n",
       "      <th>2</th>\n",
       "      <td>100.36.120.gfa</td>\n",
       "      <td>2017-04-03</td>\n",
       "      <td>00:00:00</td>\n",
       "      <td>0001263279-12-000012</td>\n",
       "      <td>2017-04-03</td>\n",
       "      <td>1</td>\n",
       "    </tr>\n",
       "    <tr>\n",
       "      <th>3</th>\n",
       "      <td>100.36.120.gfa</td>\n",
       "      <td>2017-04-03</td>\n",
       "      <td>00:00:00</td>\n",
       "      <td>0001354488-12-001393</td>\n",
       "      <td>2017-04-03</td>\n",
       "      <td>1</td>\n",
       "    </tr>\n",
       "    <tr>\n",
       "      <th>4</th>\n",
       "      <td>101.81.73.ceb</td>\n",
       "      <td>2017-04-03</td>\n",
       "      <td>00:00:00</td>\n",
       "      <td>0001019056-16-001471</td>\n",
       "      <td>2017-04-03</td>\n",
       "      <td>1</td>\n",
       "    </tr>\n",
       "    <tr>\n",
       "      <th>...</th>\n",
       "      <td>...</td>\n",
       "      <td>...</td>\n",
       "      <td>...</td>\n",
       "      <td>...</td>\n",
       "      <td>...</td>\n",
       "      <td>...</td>\n",
       "    </tr>\n",
       "    <tr>\n",
       "      <th>95</th>\n",
       "      <td>157.182.246.aaa</td>\n",
       "      <td>2017-04-03</td>\n",
       "      <td>00:00:00</td>\n",
       "      <td>0001104659-10-019343</td>\n",
       "      <td>2017-04-03</td>\n",
       "      <td>1</td>\n",
       "    </tr>\n",
       "    <tr>\n",
       "      <th>96</th>\n",
       "      <td>157.182.246.aaa</td>\n",
       "      <td>2017-04-03</td>\n",
       "      <td>00:00:00</td>\n",
       "      <td>0001171520-10-000392</td>\n",
       "      <td>2017-04-03</td>\n",
       "      <td>1</td>\n",
       "    </tr>\n",
       "    <tr>\n",
       "      <th>97</th>\n",
       "      <td>157.182.246.aaa</td>\n",
       "      <td>2017-04-03</td>\n",
       "      <td>00:00:00</td>\n",
       "      <td>0001104659-10-033375</td>\n",
       "      <td>2017-04-03</td>\n",
       "      <td>1</td>\n",
       "    </tr>\n",
       "    <tr>\n",
       "      <th>98</th>\n",
       "      <td>157.55.39.gjj</td>\n",
       "      <td>2017-04-03</td>\n",
       "      <td>00:00:00</td>\n",
       "      <td>0001398344-17-004314</td>\n",
       "      <td>2017-04-03</td>\n",
       "      <td>1</td>\n",
       "    </tr>\n",
       "    <tr>\n",
       "      <th>99</th>\n",
       "      <td>159.45.22.jhd</td>\n",
       "      <td>2017-04-03</td>\n",
       "      <td>00:00:00</td>\n",
       "      <td>0000892712-17-000252</td>\n",
       "      <td>2017-04-03</td>\n",
       "      <td>1</td>\n",
       "    </tr>\n",
       "  </tbody>\n",
       "</table>\n",
       "<p>100 rows × 6 columns</p>\n",
       "</div>"
      ],
      "text/plain": [
       "                 IP        Date      Time             Accession   Datetime  \\\n",
       "0    100.36.120.gfa  2017-04-03  00:00:00  0001104659-12-022840 2017-04-03   \n",
       "1    100.36.120.gfa  2017-04-03  00:00:00  0001140361-12-011496 2017-04-03   \n",
       "2    100.36.120.gfa  2017-04-03  00:00:00  0001263279-12-000012 2017-04-03   \n",
       "3    100.36.120.gfa  2017-04-03  00:00:00  0001354488-12-001393 2017-04-03   \n",
       "4     101.81.73.ceb  2017-04-03  00:00:00  0001019056-16-001471 2017-04-03   \n",
       "..              ...         ...       ...                   ...        ...   \n",
       "95  157.182.246.aaa  2017-04-03  00:00:00  0001104659-10-019343 2017-04-03   \n",
       "96  157.182.246.aaa  2017-04-03  00:00:00  0001171520-10-000392 2017-04-03   \n",
       "97  157.182.246.aaa  2017-04-03  00:00:00  0001104659-10-033375 2017-04-03   \n",
       "98    157.55.39.gjj  2017-04-03  00:00:00  0001398344-17-004314 2017-04-03   \n",
       "99    159.45.22.jhd  2017-04-03  00:00:00  0000892712-17-000252 2017-04-03   \n",
       "\n",
       "    Counts  \n",
       "0        1  \n",
       "1        1  \n",
       "2        1  \n",
       "3        1  \n",
       "4        1  \n",
       "..     ...  \n",
       "95       1  \n",
       "96       1  \n",
       "97       1  \n",
       "98       1  \n",
       "99       1  \n",
       "\n",
       "[100 rows x 6 columns]"
      ]
     },
     "execution_count": 15,
     "metadata": {},
     "output_type": "execute_result"
    }
   ],
   "source": []
  },
  {
   "cell_type": "code",
   "execution_count": 10,
   "metadata": {
    "scrolled": true
   },
   "outputs": [],
   "source": [
    "df1=df.drop(['IP','Date','Time'],axis=1)"
   ]
  },
  {
   "cell_type": "code",
   "execution_count": 17,
   "metadata": {},
   "outputs": [
    {
     "data": {
      "text/html": [
       "<div>\n",
       "<style scoped>\n",
       "    .dataframe tbody tr th:only-of-type {\n",
       "        vertical-align: middle;\n",
       "    }\n",
       "\n",
       "    .dataframe tbody tr th {\n",
       "        vertical-align: top;\n",
       "    }\n",
       "\n",
       "    .dataframe thead th {\n",
       "        text-align: right;\n",
       "    }\n",
       "</style>\n",
       "<table border=\"1\" class=\"dataframe\">\n",
       "  <thead>\n",
       "    <tr style=\"text-align: right;\">\n",
       "      <th></th>\n",
       "      <th>Accession</th>\n",
       "    </tr>\n",
       "  </thead>\n",
       "  <tbody>\n",
       "    <tr>\n",
       "      <th>0</th>\n",
       "      <td>0001104659-12-022840</td>\n",
       "    </tr>\n",
       "    <tr>\n",
       "      <th>1</th>\n",
       "      <td>0001140361-12-011496</td>\n",
       "    </tr>\n",
       "    <tr>\n",
       "      <th>2</th>\n",
       "      <td>0001263279-12-000012</td>\n",
       "    </tr>\n",
       "    <tr>\n",
       "      <th>3</th>\n",
       "      <td>0001354488-12-001393</td>\n",
       "    </tr>\n",
       "    <tr>\n",
       "      <th>4</th>\n",
       "      <td>0001019056-16-001471</td>\n",
       "    </tr>\n",
       "  </tbody>\n",
       "</table>\n",
       "</div>"
      ],
      "text/plain": [
       "              Accession\n",
       "0  0001104659-12-022840\n",
       "1  0001140361-12-011496\n",
       "2  0001263279-12-000012\n",
       "3  0001354488-12-001393\n",
       "4  0001019056-16-001471"
      ]
     },
     "execution_count": 17,
     "metadata": {},
     "output_type": "execute_result"
    }
   ],
   "source": [
    "df1.head()"
   ]
  },
  {
   "cell_type": "code",
   "execution_count": 16,
   "metadata": {},
   "outputs": [
    {
     "data": {
      "text/html": [
       "<div>\n",
       "<style scoped>\n",
       "    .dataframe tbody tr th:only-of-type {\n",
       "        vertical-align: middle;\n",
       "    }\n",
       "\n",
       "    .dataframe tbody tr th {\n",
       "        vertical-align: top;\n",
       "    }\n",
       "\n",
       "    .dataframe thead th {\n",
       "        text-align: right;\n",
       "    }\n",
       "</style>\n",
       "<table border=\"1\" class=\"dataframe\">\n",
       "  <thead>\n",
       "    <tr style=\"text-align: right;\">\n",
       "      <th></th>\n",
       "      <th>IP</th>\n",
       "      <th>Date</th>\n",
       "      <th>Time</th>\n",
       "      <th>Accession</th>\n",
       "      <th>Datetime</th>\n",
       "      <th>Counts</th>\n",
       "    </tr>\n",
       "  </thead>\n",
       "  <tbody>\n",
       "    <tr>\n",
       "      <th>494</th>\n",
       "      <td>69.191.249.caa</td>\n",
       "      <td>2017-04-03</td>\n",
       "      <td>00:00:01</td>\n",
       "      <td>0001415889-17-000555</td>\n",
       "      <td>2017-04-03 00:00:01</td>\n",
       "      <td>1</td>\n",
       "    </tr>\n",
       "    <tr>\n",
       "      <th>497</th>\n",
       "      <td>69.191.249.gge</td>\n",
       "      <td>2017-04-03</td>\n",
       "      <td>00:00:01</td>\n",
       "      <td>0001415889-17-000555</td>\n",
       "      <td>2017-04-03 00:00:01</td>\n",
       "      <td>2</td>\n",
       "    </tr>\n",
       "    <tr>\n",
       "      <th>723</th>\n",
       "      <td>64.124.25.jig</td>\n",
       "      <td>2017-04-03</td>\n",
       "      <td>00:00:02</td>\n",
       "      <td>0001415889-17-000555</td>\n",
       "      <td>2017-04-03 00:00:02</td>\n",
       "      <td>3</td>\n",
       "    </tr>\n",
       "    <tr>\n",
       "      <th>1009</th>\n",
       "      <td>64.124.25.jig</td>\n",
       "      <td>2017-04-03</td>\n",
       "      <td>00:00:03</td>\n",
       "      <td>0001415889-17-000555</td>\n",
       "      <td>2017-04-03 00:00:03</td>\n",
       "      <td>4</td>\n",
       "    </tr>\n",
       "    <tr>\n",
       "      <th>1039</th>\n",
       "      <td>69.191.249.bgg</td>\n",
       "      <td>2017-04-03</td>\n",
       "      <td>00:00:03</td>\n",
       "      <td>0001415889-17-000555</td>\n",
       "      <td>2017-04-03 00:00:03</td>\n",
       "      <td>5</td>\n",
       "    </tr>\n",
       "    <tr>\n",
       "      <th>...</th>\n",
       "      <td>...</td>\n",
       "      <td>...</td>\n",
       "      <td>...</td>\n",
       "      <td>...</td>\n",
       "      <td>...</td>\n",
       "      <td>...</td>\n",
       "    </tr>\n",
       "    <tr>\n",
       "      <th>26126120</th>\n",
       "      <td>121.40.120.iee</td>\n",
       "      <td>2017-04-03</td>\n",
       "      <td>23:51:23</td>\n",
       "      <td>0001415889-17-000555</td>\n",
       "      <td>2017-04-03 23:51:23</td>\n",
       "      <td>23</td>\n",
       "    </tr>\n",
       "    <tr>\n",
       "      <th>26127834</th>\n",
       "      <td>117.89.48.aed</td>\n",
       "      <td>2017-04-03</td>\n",
       "      <td>23:51:29</td>\n",
       "      <td>0001415889-17-000555</td>\n",
       "      <td>2017-04-03 23:51:29</td>\n",
       "      <td>24</td>\n",
       "    </tr>\n",
       "    <tr>\n",
       "      <th>26127835</th>\n",
       "      <td>117.89.48.aed</td>\n",
       "      <td>2017-04-03</td>\n",
       "      <td>23:51:29</td>\n",
       "      <td>0001415889-17-000555</td>\n",
       "      <td>2017-04-03 23:51:29</td>\n",
       "      <td>25</td>\n",
       "    </tr>\n",
       "    <tr>\n",
       "      <th>26159902</th>\n",
       "      <td>141.160.13.ihd</td>\n",
       "      <td>2017-04-03</td>\n",
       "      <td>23:53:24</td>\n",
       "      <td>0001415889-17-000555</td>\n",
       "      <td>2017-04-03 23:53:24</td>\n",
       "      <td>26</td>\n",
       "    </tr>\n",
       "    <tr>\n",
       "      <th>26163068</th>\n",
       "      <td>117.91.4.bch</td>\n",
       "      <td>2017-04-03</td>\n",
       "      <td>23:53:35</td>\n",
       "      <td>0001415889-17-000555</td>\n",
       "      <td>2017-04-03 23:53:35</td>\n",
       "      <td>27</td>\n",
       "    </tr>\n",
       "  </tbody>\n",
       "</table>\n",
       "<p>41588 rows × 6 columns</p>\n",
       "</div>"
      ],
      "text/plain": [
       "                      IP        Date      Time             Accession  \\\n",
       "494       69.191.249.caa  2017-04-03  00:00:01  0001415889-17-000555   \n",
       "497       69.191.249.gge  2017-04-03  00:00:01  0001415889-17-000555   \n",
       "723        64.124.25.jig  2017-04-03  00:00:02  0001415889-17-000555   \n",
       "1009       64.124.25.jig  2017-04-03  00:00:03  0001415889-17-000555   \n",
       "1039      69.191.249.bgg  2017-04-03  00:00:03  0001415889-17-000555   \n",
       "...                  ...         ...       ...                   ...   \n",
       "26126120  121.40.120.iee  2017-04-03  23:51:23  0001415889-17-000555   \n",
       "26127834   117.89.48.aed  2017-04-03  23:51:29  0001415889-17-000555   \n",
       "26127835   117.89.48.aed  2017-04-03  23:51:29  0001415889-17-000555   \n",
       "26159902  141.160.13.ihd  2017-04-03  23:53:24  0001415889-17-000555   \n",
       "26163068    117.91.4.bch  2017-04-03  23:53:35  0001415889-17-000555   \n",
       "\n",
       "                    Datetime  Counts  \n",
       "494      2017-04-03 00:00:01       1  \n",
       "497      2017-04-03 00:00:01       2  \n",
       "723      2017-04-03 00:00:02       3  \n",
       "1009     2017-04-03 00:00:03       4  \n",
       "1039     2017-04-03 00:00:03       5  \n",
       "...                      ...     ...  \n",
       "26126120 2017-04-03 23:51:23      23  \n",
       "26127834 2017-04-03 23:51:29      24  \n",
       "26127835 2017-04-03 23:51:29      25  \n",
       "26159902 2017-04-03 23:53:24      26  \n",
       "26163068 2017-04-03 23:53:35      27  \n",
       "\n",
       "[41588 rows x 6 columns]"
      ]
     },
     "execution_count": 16,
     "metadata": {},
     "output_type": "execute_result"
    }
   ],
   "source": [
    "df[df.Accession.str.contains('0001415889-17-000555')]"
   ]
  },
  {
   "cell_type": "code",
   "execution_count": 63,
   "metadata": {},
   "outputs": [],
   "source": [
    "#d10m = df1['Counts'].rolling('600s').sum()"
   ]
  },
  {
   "cell_type": "code",
   "execution_count": 64,
   "metadata": {
    "scrolled": false
   },
   "outputs": [
    {
     "data": {
      "text/plain": [
       "<matplotlib.axes._subplots.AxesSubplot at 0x21f729f350>"
      ]
     },
     "execution_count": 64,
     "metadata": {},
     "output_type": "execute_result"
    },
    {
     "data": {
      "image/png": "[encoded data removed]",
      "text/plain": [
       "<Figure size 432x288 with 1 Axes>"
      ]
     },
     "metadata": {
      "needs_background": "light"
     },
     "output_type": "display_data"
    }
   ],
   "source": [
    "#d10m.plot()"
   ]
  },
  {
   "cell_type": "code",
   "execution_count": 77,
   "metadata": {},
   "outputs": [
    {
     "data": {
      "image/png": "[encoded data removed]",
      "text/plain": [
       "<Figure size 1008x144 with 1 Axes>"
      ]
     },
     "metadata": {
      "needs_background": "light"
     },
     "output_type": "display_data"
    }
   ],
   "source": [
    "# fig, ax = plt.subplots(1, figsize=(14, 2))\n",
    "# plot_linear_trend(ax, 'Docs', df1['Counts'])\n",
    "# plt.tight_layout()"
   ]
  },
  {
   "cell_type": "code",
   "execution_count": 18,
   "metadata": {},
   "outputs": [],
   "source": [
    "#get highest cumcounts\n",
    "#df1['Accession'].nlargest(20,'Counts')\n",
    "df2 = df.sort_values('Counts').drop_duplicates('Accession',keep='last').tail(20)"
   ]
  },
  {
   "cell_type": "code",
   "execution_count": 34,
   "metadata": {
    "scrolled": true
   },
   "outputs": [
    {
     "data": {
      "text/html": [
       "<div>\n",
       "<style scoped>\n",
       "    .dataframe tbody tr th:only-of-type {\n",
       "        vertical-align: middle;\n",
       "    }\n",
       "\n",
       "    .dataframe tbody tr th {\n",
       "        vertical-align: top;\n",
       "    }\n",
       "\n",
       "    .dataframe thead th {\n",
       "        text-align: right;\n",
       "    }\n",
       "</style>\n",
       "<table border=\"1\" class=\"dataframe\">\n",
       "  <thead>\n",
       "    <tr style=\"text-align: right;\">\n",
       "      <th></th>\n",
       "      <th>IP</th>\n",
       "      <th>Date</th>\n",
       "      <th>Time</th>\n",
       "      <th>Accession</th>\n",
       "      <th>Datetime</th>\n",
       "      <th>Counts</th>\n",
       "    </tr>\n",
       "  </thead>\n",
       "  <tbody>\n",
       "    <tr>\n",
       "      <th>10345217</th>\n",
       "      <td>117.91.1.ebi</td>\n",
       "      <td>2017-04-03</td>\n",
       "      <td>10:59:59</td>\n",
       "      <td>0001028918-17-000097</td>\n",
       "      <td>2017-04-03 10:59:59</td>\n",
       "      <td>4382</td>\n",
       "    </tr>\n",
       "    <tr>\n",
       "      <th>19005085</th>\n",
       "      <td>97.100.78.cjb</td>\n",
       "      <td>2017-04-03</td>\n",
       "      <td>17:59:59</td>\n",
       "      <td>0001535538-17-000029</td>\n",
       "      <td>2017-04-03 17:59:59</td>\n",
       "      <td>4461</td>\n",
       "    </tr>\n",
       "    <tr>\n",
       "      <th>17762532</th>\n",
       "      <td>146.148.100.bgg</td>\n",
       "      <td>2017-04-03</td>\n",
       "      <td>16:59:29</td>\n",
       "      <td>0000914775-17-000044</td>\n",
       "      <td>2017-04-03 16:59:29</td>\n",
       "      <td>4605</td>\n",
       "    </tr>\n",
       "    <tr>\n",
       "      <th>6641514</th>\n",
       "      <td>107.178.194.jdd</td>\n",
       "      <td>2017-04-03</td>\n",
       "      <td>07:28:21</td>\n",
       "      <td>0001166388-16-000267</td>\n",
       "      <td>2017-04-03 07:28:21</td>\n",
       "      <td>4743</td>\n",
       "    </tr>\n",
       "    <tr>\n",
       "      <th>14046489</th>\n",
       "      <td>52.26.85.eib</td>\n",
       "      <td>2017-04-03</td>\n",
       "      <td>13:54:27</td>\n",
       "      <td>0001571049-17-002929</td>\n",
       "      <td>2017-04-03 13:54:27</td>\n",
       "      <td>4759</td>\n",
       "    </tr>\n",
       "    <tr>\n",
       "      <th>20180592</th>\n",
       "      <td>108.91.91.hbc</td>\n",
       "      <td>2017-04-03</td>\n",
       "      <td>18:59:19</td>\n",
       "      <td>0000908662-17-000089</td>\n",
       "      <td>2017-04-03 18:59:19</td>\n",
       "      <td>4792</td>\n",
       "    </tr>\n",
       "    <tr>\n",
       "      <th>11663870</th>\n",
       "      <td>108.91.91.hbc</td>\n",
       "      <td>2017-04-03</td>\n",
       "      <td>11:59:55</td>\n",
       "      <td>0001571049-17-003108</td>\n",
       "      <td>2017-04-03 11:59:55</td>\n",
       "      <td>4975</td>\n",
       "    </tr>\n",
       "    <tr>\n",
       "      <th>15350016</th>\n",
       "      <td>104.197.130.ghg</td>\n",
       "      <td>2017-04-03</td>\n",
       "      <td>14:59:43</td>\n",
       "      <td>0000088053-17-000548</td>\n",
       "      <td>2017-04-03 14:59:43</td>\n",
       "      <td>5357</td>\n",
       "    </tr>\n",
       "    <tr>\n",
       "      <th>7139420</th>\n",
       "      <td>173.16.90.eda</td>\n",
       "      <td>2017-04-03</td>\n",
       "      <td>07:57:16</td>\n",
       "      <td>0000095521-16-000309</td>\n",
       "      <td>2017-04-03 07:57:16</td>\n",
       "      <td>5409</td>\n",
       "    </tr>\n",
       "    <tr>\n",
       "      <th>7138619</th>\n",
       "      <td>173.16.90.eda</td>\n",
       "      <td>2017-04-03</td>\n",
       "      <td>07:57:13</td>\n",
       "      <td>0000095521-17-000007</td>\n",
       "      <td>2017-04-03 07:57:13</td>\n",
       "      <td>5758</td>\n",
       "    </tr>\n",
       "    <tr>\n",
       "      <th>7183759</th>\n",
       "      <td>64.140.243.cgg</td>\n",
       "      <td>2017-04-03</td>\n",
       "      <td>07:59:59</td>\n",
       "      <td>0000000000-16-104453</td>\n",
       "      <td>2017-04-03 07:59:59</td>\n",
       "      <td>5801</td>\n",
       "    </tr>\n",
       "    <tr>\n",
       "      <th>11663871</th>\n",
       "      <td>108.91.91.hbc</td>\n",
       "      <td>2017-04-03</td>\n",
       "      <td>11:59:55</td>\n",
       "      <td>0000899243-17-009072</td>\n",
       "      <td>2017-04-03 11:59:55</td>\n",
       "      <td>5865</td>\n",
       "    </tr>\n",
       "    <tr>\n",
       "      <th>6641516</th>\n",
       "      <td>107.178.194.jdd</td>\n",
       "      <td>2017-04-03</td>\n",
       "      <td>07:28:21</td>\n",
       "      <td>0000799288-16-000197</td>\n",
       "      <td>2017-04-03 07:28:21</td>\n",
       "      <td>5907</td>\n",
       "    </tr>\n",
       "    <tr>\n",
       "      <th>8107531</th>\n",
       "      <td>52.203.138.fjb</td>\n",
       "      <td>2017-04-03</td>\n",
       "      <td>08:59:51</td>\n",
       "      <td>0001702675-17-000001</td>\n",
       "      <td>2017-04-03 08:59:51</td>\n",
       "      <td>5910</td>\n",
       "    </tr>\n",
       "    <tr>\n",
       "      <th>16541730</th>\n",
       "      <td>208.79.49.fdb</td>\n",
       "      <td>2017-04-03</td>\n",
       "      <td>15:59:59</td>\n",
       "      <td>0001576429-14-000002</td>\n",
       "      <td>2017-04-03 15:59:59</td>\n",
       "      <td>6393</td>\n",
       "    </tr>\n",
       "    <tr>\n",
       "      <th>20169020</th>\n",
       "      <td>52.52.228.bgg</td>\n",
       "      <td>2017-04-03</td>\n",
       "      <td>18:58:39</td>\n",
       "      <td>0000908662-17-000088</td>\n",
       "      <td>2017-04-03 18:58:39</td>\n",
       "      <td>6929</td>\n",
       "    </tr>\n",
       "    <tr>\n",
       "      <th>14149699</th>\n",
       "      <td>64.124.25.jig</td>\n",
       "      <td>2017-04-03</td>\n",
       "      <td>13:59:58</td>\n",
       "      <td>0001179110-17-005327</td>\n",
       "      <td>2017-04-03 13:59:58</td>\n",
       "      <td>7569</td>\n",
       "    </tr>\n",
       "    <tr>\n",
       "      <th>7183482</th>\n",
       "      <td>64.140.243.cgg</td>\n",
       "      <td>2017-04-03</td>\n",
       "      <td>07:59:58</td>\n",
       "      <td>0000000000-17-000983</td>\n",
       "      <td>2017-04-03 07:59:58</td>\n",
       "      <td>9688</td>\n",
       "    </tr>\n",
       "    <tr>\n",
       "      <th>4194576</th>\n",
       "      <td>78.108.46.dcg</td>\n",
       "      <td>2017-04-03</td>\n",
       "      <td>04:59:59</td>\n",
       "      <td>0000950123-05-004029</td>\n",
       "      <td>2017-04-03 04:59:59</td>\n",
       "      <td>9842</td>\n",
       "    </tr>\n",
       "    <tr>\n",
       "      <th>7183547</th>\n",
       "      <td>107.178.194.fjf</td>\n",
       "      <td>2017-04-03</td>\n",
       "      <td>07:59:59</td>\n",
       "      <td>0001584509-16-000514</td>\n",
       "      <td>2017-04-03 07:59:59</td>\n",
       "      <td>11299</td>\n",
       "    </tr>\n",
       "  </tbody>\n",
       "</table>\n",
       "</div>"
      ],
      "text/plain": [
       "                       IP        Date      Time             Accession  \\\n",
       "10345217     117.91.1.ebi  2017-04-03  10:59:59  0001028918-17-000097   \n",
       "19005085    97.100.78.cjb  2017-04-03  17:59:59  0001535538-17-000029   \n",
       "17762532  146.148.100.bgg  2017-04-03  16:59:29  0000914775-17-000044   \n",
       "6641514   107.178.194.jdd  2017-04-03  07:28:21  0001166388-16-000267   \n",
       "14046489     52.26.85.eib  2017-04-03  13:54:27  0001571049-17-002929   \n",
       "20180592    108.91.91.hbc  2017-04-03  18:59:19  0000908662-17-000089   \n",
       "11663870    108.91.91.hbc  2017-04-03  11:59:55  0001571049-17-003108   \n",
       "15350016  104.197.130.ghg  2017-04-03  14:59:43  0000088053-17-000548   \n",
       "7139420     173.16.90.eda  2017-04-03  07:57:16  0000095521-16-000309   \n",
       "7138619     173.16.90.eda  2017-04-03  07:57:13  0000095521-17-000007   \n",
       "7183759    64.140.243.cgg  2017-04-03  07:59:59  0000000000-16-104453   \n",
       "11663871    108.91.91.hbc  2017-04-03  11:59:55  0000899243-17-009072   \n",
       "6641516   107.178.194.jdd  2017-04-03  07:28:21  0000799288-16-000197   \n",
       "8107531    52.203.138.fjb  2017-04-03  08:59:51  0001702675-17-000001   \n",
       "16541730    208.79.49.fdb  2017-04-03  15:59:59  0001576429-14-000002   \n",
       "20169020    52.52.228.bgg  2017-04-03  18:58:39  0000908662-17-000088   \n",
       "14149699    64.124.25.jig  2017-04-03  13:59:58  0001179110-17-005327   \n",
       "7183482    64.140.243.cgg  2017-04-03  07:59:58  0000000000-17-000983   \n",
       "4194576     78.108.46.dcg  2017-04-03  04:59:59  0000950123-05-004029   \n",
       "7183547   107.178.194.fjf  2017-04-03  07:59:59  0001584509-16-000514   \n",
       "\n",
       "                    Datetime  Counts  \n",
       "10345217 2017-04-03 10:59:59    4382  \n",
       "19005085 2017-04-03 17:59:59    4461  \n",
       "17762532 2017-04-03 16:59:29    4605  \n",
       "6641514  2017-04-03 07:28:21    4743  \n",
       "14046489 2017-04-03 13:54:27    4759  \n",
       "20180592 2017-04-03 18:59:19    4792  \n",
       "11663870 2017-04-03 11:59:55    4975  \n",
       "15350016 2017-04-03 14:59:43    5357  \n",
       "7139420  2017-04-03 07:57:16    5409  \n",
       "7138619  2017-04-03 07:57:13    5758  \n",
       "7183759  2017-04-03 07:59:59    5801  \n",
       "11663871 2017-04-03 11:59:55    5865  \n",
       "6641516  2017-04-03 07:28:21    5907  \n",
       "8107531  2017-04-03 08:59:51    5910  \n",
       "16541730 2017-04-03 15:59:59    6393  \n",
       "20169020 2017-04-03 18:58:39    6929  \n",
       "14149699 2017-04-03 13:59:58    7569  \n",
       "7183482  2017-04-03 07:59:58    9688  \n",
       "4194576  2017-04-03 04:59:59    9842  \n",
       "7183547  2017-04-03 07:59:59   11299  "
      ]
     },
     "execution_count": 34,
     "metadata": {},
     "output_type": "execute_result"
    }
   ],
   "source": [
    "df2"
   ]
  },
  {
   "cell_type": "code",
   "execution_count": 20,
   "metadata": {},
   "outputs": [],
   "source": [
    "#dflow = df1.sort_values('Counts').drop_duplicates('Accession',keep='last').tail(20)"
   ]
  },
  {
   "cell_type": "code",
   "execution_count": 35,
   "metadata": {},
   "outputs": [
    {
     "data": {
      "text/plain": [
       "array([[<matplotlib.axes._subplots.AxesSubplot object at 0x1b375753d0>]],\n",
       "      dtype=object)"
      ]
     },
     "execution_count": 35,
     "metadata": {},
     "output_type": "execute_result"
    },
    {
     "data": {
      "image/png": "[encoded data removed]",
      "text/plain": [
       "<Figure size 432x288 with 1 Axes>"
      ]
     },
     "metadata": {
      "needs_background": "light"
     },
     "output_type": "display_data"
    }
   ],
   "source": [
    "df2.hist()"
   ]
  },
  {
   "cell_type": "code",
   "execution_count": 13,
   "metadata": {
    "scrolled": true
   },
   "outputs": [],
   "source": [
    "#df1['Total_Count'] = np.arange(1, len(df1)+1)"
   ]
  },
  {
   "cell_type": "code",
   "execution_count": 14,
   "metadata": {},
   "outputs": [],
   "source": [
    "#df1['Percent_Total'] = df1['Counts'] / df1['Total_Count']"
   ]
  },
  {
   "cell_type": "code",
   "execution_count": 60,
   "metadata": {},
   "outputs": [
    {
     "data": {
      "text/plain": [
       "(4110253,)"
      ]
     },
     "execution_count": 60,
     "metadata": {},
     "output_type": "execute_result"
    }
   ],
   "source": [
    "#(df1.Accession.unique()).shape"
   ]
  },
  {
   "cell_type": "code",
   "execution_count": 30,
   "metadata": {},
   "outputs": [],
   "source": [
    "#dm = df1['Counts'].rolling('600s').mean()"
   ]
  },
  {
   "cell_type": "code",
   "execution_count": 31,
   "metadata": {
    "scrolled": true
   },
   "outputs": [
    {
     "data": {
      "text/plain": [
       "<matplotlib.axes._subplots.AxesSubplot at 0x1e6cf90dd0>"
      ]
     },
     "execution_count": 31,
     "metadata": {},
     "output_type": "execute_result"
    },
    {
     "data": {
      "image/png": "[encoded data removed]",
      "text/plain": [
       "<Figure size 432x288 with 1 Axes>"
      ]
     },
     "metadata": {
      "needs_background": "light"
     },
     "output_type": "display_data"
    }
   ],
   "source": [
    "#dm.plot()"
   ]
  },
  {
   "cell_type": "code",
   "execution_count": 32,
   "metadata": {},
   "outputs": [],
   "source": [
    "#d10mstd = df1['Counts'].rolling('600s').std()"
   ]
  },
  {
   "cell_type": "code",
   "execution_count": 34,
   "metadata": {
    "scrolled": true
   },
   "outputs": [
    {
     "data": {
      "text/plain": [
       "<matplotlib.axes._subplots.AxesSubplot at 0x1e6cfa2bd0>"
      ]
     },
     "execution_count": 34,
     "metadata": {},
     "output_type": "execute_result"
    },
    {
     "data": {
      "image/png": "[encoded data removed]",
      "text/plain": [
       "<Figure size 432x288 with 1 Axes>"
      ]
     },
     "metadata": {
      "needs_background": "light"
     },
     "output_type": "display_data"
    }
   ],
   "source": [
    "#d10mstd.plot()"
   ]
  },
  {
   "cell_type": "code",
   "execution_count": 25,
   "metadata": {},
   "outputs": [],
   "source": []
  },
  {
   "cell_type": "code",
   "execution_count": null,
   "metadata": {},
   "outputs": [],
   "source": []
  }
 ],
 "metadata": {
  "kernelspec": {
   "display_name": "Python 3",
   "language": "python",
   "name": "python3"
  },
  "language_info": {
   "codemirror_mode": {
    "name": "ipython",
    "version": 3
   },
   "file_extension": ".py",
   "mimetype": "text/x-python",
   "name": "python",
   "nbconvert_exporter": "python",
   "pygments_lexer": "ipython3",
   "version": "3.7.6"
  }
 },
 "nbformat": 4,
 "nbformat_minor": 2
}
