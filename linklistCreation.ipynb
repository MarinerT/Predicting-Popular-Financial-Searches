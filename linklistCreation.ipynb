{
 "cells": [
  {
   "cell_type": "code",
   "execution_count": 1,
   "metadata": {},
   "outputs": [],
   "source": [
    "#Creating the CSV list to loop through to upload documents from SEC website to S3 bucket"
   ]
  },
  {
   "cell_type": "code",
   "execution_count": 17,
   "metadata": {},
   "outputs": [],
   "source": [
    "import numpy as np\n",
    "import datetime"
   ]
  },
  {
   "cell_type": "code",
   "execution_count": 18,
   "metadata": {},
   "outputs": [],
   "source": [
    "#Setting the start and end dates\n",
    "date_range_start = '20110101'\n",
    "date_range_end = '20141231'"
   ]
  },
  {
   "cell_type": "code",
   "execution_count": 19,
   "metadata": {},
   "outputs": [],
   "source": [
    "# creating a function to make a list of dates\n",
    "def dates_list_gen(start_date, end_date):\n",
    "    '''\n",
    "    Description: generates a list of dates between the specified start and end dates. \n",
    "    Input: two string arrays with date in format yyyymmdd\n",
    "    Output: an array of the dates by day\n",
    "    '''\n",
    "    dates = []\n",
    "    start = datetime.datetime.strptime(start_date, \"%Y%m%d\")\n",
    "    end = datetime.datetime.strptime(end_date, \"%Y%m%d\")\n",
    "    date_generated = [start + datetime.timedelta(days=x) for x in range(0, (end-start).days)]\n",
    "\n",
    "    for date in date_generated:\n",
    "        dates.append(date.strftime(\"%Y%m%d\"))\n",
    "    return dates"
   ]
  },
  {
   "cell_type": "code",
   "execution_count": 20,
   "metadata": {},
   "outputs": [],
   "source": [
    "dates = dates_list_gen(date_range_start, date_range_end)"
   ]
  },
  {
   "cell_type": "code",
   "execution_count": 21,
   "metadata": {},
   "outputs": [],
   "source": [
    "#creating a function to find the Qtr portion of the link name\n",
    "def find_qtr(date):\n",
    "    if int(date[4:6]) <= 3:\n",
    "        return 'Qtr1/log' + date + '.zip'\n",
    "    elif int(date[4:6]) <= 6:\n",
    "        return 'Qtr2/log' + date + '.zip'\n",
    "    elif int(date[4:6]) <= 9:\n",
    "        return 'Qtr3/log' + date + '.zip'\n",
    "    else:\n",
    "        return 'Qtr4/log' + date + '.zip'"
   ]
  },
  {
   "cell_type": "code",
   "execution_count": 22,
   "metadata": {},
   "outputs": [],
   "source": [
    "#creating a function to find the year portion of the link name\n",
    "def find_year(date):\n",
    "    basename = 'http://www.sec.gov/dera/data/Public-EDGAR-log-file-data/'\n",
    "    return basename + str(date[:4]) + \"/\"         "
   ]
  },
  {
   "cell_type": "code",
   "execution_count": 23,
   "metadata": {},
   "outputs": [],
   "source": [
    "linklistc = np.asarray([find_year(date) + find_qtr(date) for date in dates])"
   ]
  },
  {
   "cell_type": "code",
   "execution_count": 16,
   "metadata": {},
   "outputs": [],
   "source": [
    "np.savetxt('linklistc.csv', linklistc, fmt='%s',delimiter=\"\")"
   ]
  },
  {
   "cell_type": "code",
   "execution_count": null,
   "metadata": {},
   "outputs": [],
   "source": []
  }
 ],
 "metadata": {
  "kernelspec": {
   "display_name": "Python 3",
   "language": "python",
   "name": "python3"
  },
  "language_info": {
   "codemirror_mode": {
    "name": "ipython",
    "version": 3
   },
   "file_extension": ".py",
   "mimetype": "text/x-python",
   "name": "python",
   "nbconvert_exporter": "python",
   "pygments_lexer": "ipython3",
   "version": "3.7.6"
  }
 },
 "nbformat": 4,
 "nbformat_minor": 4
}
