{
 "cells": [
  {
   "cell_type": "code",
   "execution_count": 1,
   "metadata": {},
   "outputs": [],
   "source": [
    "import pandas as pd\n",
    "import numpy as np\n",
    "import matplotlib.pyplot as plt\n",
    "import os\n",
    "import itertools\n",
    "from scipy import signal\n",
    "from scipy import stats\n",
    "\n",
    "import statsmodels.api as sm\n",
    "from statsmodels.tsa.arima_model import ARIMA\n",
    "from statsmodels.tsa.arima_process import ArmaProcess\n",
    "from statsmodels.tsa.statespace.sarimax import SARIMAX\n",
    "from statsmodels.tsa.stattools import adfuller\n",
    "\n",
    "%matplotlib inline"
   ]
  },
  {
   "cell_type": "code",
   "execution_count": 2,
   "metadata": {},
   "outputs": [],
   "source": [
    "file = '~/galvanize/capstones/PredictingSearches-on-EDGAR/Logs/170403.csv'\n",
    "df = pd.read_csv(file, names=['IP','Date','Time','Accession'])"
   ]
  },
  {
   "cell_type": "code",
   "execution_count": 3,
   "metadata": {},
   "outputs": [],
   "source": [
    "Uniq = df.Accession.unique()\n",
    "u = np.random.choice(Uniq, 100000)"
   ]
  },
  {
   "cell_type": "code",
   "execution_count": 4,
   "metadata": {},
   "outputs": [],
   "source": [
    "df1 = df[df['Accession'].isin(u)]"
   ]
  },
  {
   "cell_type": "code",
   "execution_count": 5,
   "metadata": {},
   "outputs": [],
   "source": [
    "df1 = df1.reset_index()"
   ]
  },
  {
   "cell_type": "code",
   "execution_count": 6,
   "metadata": {},
   "outputs": [],
   "source": [
    "df['Datetime'] = df['Date'] + ' ' + df['Time']\n",
    "df['Datetime'] = pd.to_datetime(df['Datetime'])"
   ]
  },
  {
   "cell_type": "code",
   "execution_count": 7,
   "metadata": {},
   "outputs": [
    {
     "data": {
      "text/html": [
       "<div>\n",
       "<style scoped>\n",
       "    .dataframe tbody tr th:only-of-type {\n",
       "        vertical-align: middle;\n",
       "    }\n",
       "\n",
       "    .dataframe tbody tr th {\n",
       "        vertical-align: top;\n",
       "    }\n",
       "\n",
       "    .dataframe thead th {\n",
       "        text-align: right;\n",
       "    }\n",
       "</style>\n",
       "<table border=\"1\" class=\"dataframe\">\n",
       "  <thead>\n",
       "    <tr style=\"text-align: right;\">\n",
       "      <th></th>\n",
       "      <th>IP</th>\n",
       "      <th>Date</th>\n",
       "      <th>Time</th>\n",
       "      <th>Accession</th>\n",
       "      <th>Datetime</th>\n",
       "    </tr>\n",
       "  </thead>\n",
       "  <tbody>\n",
       "    <tr>\n",
       "      <th>494</th>\n",
       "      <td>69.191.249.caa</td>\n",
       "      <td>2017-04-03</td>\n",
       "      <td>00:00:01</td>\n",
       "      <td>0001415889-17-000555</td>\n",
       "      <td>2017-04-03 00:00:01</td>\n",
       "    </tr>\n",
       "    <tr>\n",
       "      <th>497</th>\n",
       "      <td>69.191.249.gge</td>\n",
       "      <td>2017-04-03</td>\n",
       "      <td>00:00:01</td>\n",
       "      <td>0001415889-17-000555</td>\n",
       "      <td>2017-04-03 00:00:01</td>\n",
       "    </tr>\n",
       "    <tr>\n",
       "      <th>723</th>\n",
       "      <td>64.124.25.jig</td>\n",
       "      <td>2017-04-03</td>\n",
       "      <td>00:00:02</td>\n",
       "      <td>0001415889-17-000555</td>\n",
       "      <td>2017-04-03 00:00:02</td>\n",
       "    </tr>\n",
       "    <tr>\n",
       "      <th>1009</th>\n",
       "      <td>64.124.25.jig</td>\n",
       "      <td>2017-04-03</td>\n",
       "      <td>00:00:03</td>\n",
       "      <td>0001415889-17-000555</td>\n",
       "      <td>2017-04-03 00:00:03</td>\n",
       "    </tr>\n",
       "    <tr>\n",
       "      <th>1039</th>\n",
       "      <td>69.191.249.bgg</td>\n",
       "      <td>2017-04-03</td>\n",
       "      <td>00:00:03</td>\n",
       "      <td>0001415889-17-000555</td>\n",
       "      <td>2017-04-03 00:00:03</td>\n",
       "    </tr>\n",
       "    <tr>\n",
       "      <th>...</th>\n",
       "      <td>...</td>\n",
       "      <td>...</td>\n",
       "      <td>...</td>\n",
       "      <td>...</td>\n",
       "      <td>...</td>\n",
       "    </tr>\n",
       "    <tr>\n",
       "      <th>26126120</th>\n",
       "      <td>121.40.120.iee</td>\n",
       "      <td>2017-04-03</td>\n",
       "      <td>23:51:23</td>\n",
       "      <td>0001415889-17-000555</td>\n",
       "      <td>2017-04-03 23:51:23</td>\n",
       "    </tr>\n",
       "    <tr>\n",
       "      <th>26127834</th>\n",
       "      <td>117.89.48.aed</td>\n",
       "      <td>2017-04-03</td>\n",
       "      <td>23:51:29</td>\n",
       "      <td>0001415889-17-000555</td>\n",
       "      <td>2017-04-03 23:51:29</td>\n",
       "    </tr>\n",
       "    <tr>\n",
       "      <th>26127835</th>\n",
       "      <td>117.89.48.aed</td>\n",
       "      <td>2017-04-03</td>\n",
       "      <td>23:51:29</td>\n",
       "      <td>0001415889-17-000555</td>\n",
       "      <td>2017-04-03 23:51:29</td>\n",
       "    </tr>\n",
       "    <tr>\n",
       "      <th>26159902</th>\n",
       "      <td>141.160.13.ihd</td>\n",
       "      <td>2017-04-03</td>\n",
       "      <td>23:53:24</td>\n",
       "      <td>0001415889-17-000555</td>\n",
       "      <td>2017-04-03 23:53:24</td>\n",
       "    </tr>\n",
       "    <tr>\n",
       "      <th>26163068</th>\n",
       "      <td>117.91.4.bch</td>\n",
       "      <td>2017-04-03</td>\n",
       "      <td>23:53:35</td>\n",
       "      <td>0001415889-17-000555</td>\n",
       "      <td>2017-04-03 23:53:35</td>\n",
       "    </tr>\n",
       "  </tbody>\n",
       "</table>\n",
       "<p>41588 rows × 5 columns</p>\n",
       "</div>"
      ],
      "text/plain": [
       "                      IP        Date      Time             Accession  \\\n",
       "494       69.191.249.caa  2017-04-03  00:00:01  0001415889-17-000555   \n",
       "497       69.191.249.gge  2017-04-03  00:00:01  0001415889-17-000555   \n",
       "723        64.124.25.jig  2017-04-03  00:00:02  0001415889-17-000555   \n",
       "1009       64.124.25.jig  2017-04-03  00:00:03  0001415889-17-000555   \n",
       "1039      69.191.249.bgg  2017-04-03  00:00:03  0001415889-17-000555   \n",
       "...                  ...         ...       ...                   ...   \n",
       "26126120  121.40.120.iee  2017-04-03  23:51:23  0001415889-17-000555   \n",
       "26127834   117.89.48.aed  2017-04-03  23:51:29  0001415889-17-000555   \n",
       "26127835   117.89.48.aed  2017-04-03  23:51:29  0001415889-17-000555   \n",
       "26159902  141.160.13.ihd  2017-04-03  23:53:24  0001415889-17-000555   \n",
       "26163068    117.91.4.bch  2017-04-03  23:53:35  0001415889-17-000555   \n",
       "\n",
       "                    Datetime  \n",
       "494      2017-04-03 00:00:01  \n",
       "497      2017-04-03 00:00:01  \n",
       "723      2017-04-03 00:00:02  \n",
       "1009     2017-04-03 00:00:03  \n",
       "1039     2017-04-03 00:00:03  \n",
       "...                      ...  \n",
       "26126120 2017-04-03 23:51:23  \n",
       "26127834 2017-04-03 23:51:29  \n",
       "26127835 2017-04-03 23:51:29  \n",
       "26159902 2017-04-03 23:53:24  \n",
       "26163068 2017-04-03 23:53:35  \n",
       "\n",
       "[41588 rows x 5 columns]"
      ]
     },
     "execution_count": 7,
     "metadata": {},
     "output_type": "execute_result"
    }
   ],
   "source": [
    "df[df.Accession.str.contains('0001415889-17-000555')]"
   ]
  },
  {
   "cell_type": "code",
   "execution_count": 25,
   "metadata": {},
   "outputs": [],
   "source": [
    "df['Counts_Hour'] = df.groupby([df.Datetime.dt.hour,df.Accession]).cumcount()+1"
   ]
  },
  {
   "cell_type": "code",
   "execution_count": 36,
   "metadata": {},
   "outputs": [],
   "source": [
    "df_a = df[df.Accession.str.contains('0001584509-16-000514')]"
   ]
  },
  {
   "cell_type": "code",
   "execution_count": 53,
   "metadata": {},
   "outputs": [],
   "source": [
    "df_a1 = df_a.groupby([df_a.Datetime.dt.hour,df_a.Accession]).max()"
   ]
  },
  {
   "cell_type": "code",
   "execution_count": 62,
   "metadata": {},
   "outputs": [
    {
     "data": {
      "text/plain": [
       "(array([736422.   , 736422.125, 736422.25 , 736422.375, 736422.5  ,\n",
       "        736422.625, 736422.75 , 736422.875, 736423.   ]),\n",
       " <a list of 9 Text xticklabel objects>)"
      ]
     },
     "execution_count": 62,
     "metadata": {},
     "output_type": "execute_result"
    },
    {
     "data": {
      "image/png": "[encoded data removed]",
      "text/plain": [
       "<Figure size 432x288 with 1 Axes>"
      ]
     },
     "metadata": {
      "needs_background": "light"
     },
     "output_type": "display_data"
    }
   ],
   "source": [
    "plt.plot(df_a1.Datetime, df_a1.Counts_Hour)\n",
    "plt.xticks(rotation=45)"
   ]
  },
  {
   "cell_type": "code",
   "execution_count": 40,
   "metadata": {},
   "outputs": [],
   "source": [
    "hits = df_a['Counts_Hour']"
   ]
  },
  {
   "cell_type": "code",
   "execution_count": 45,
   "metadata": {},
   "outputs": [
    {
     "data": {
      "text/plain": [
       "(array([736422.   , 736422.125, 736422.25 , 736422.375, 736422.5  ,\n",
       "        736422.625, 736422.75 , 736422.875, 736423.   ]),\n",
       " <a list of 9 Text xticklabel objects>)"
      ]
     },
     "execution_count": 45,
     "metadata": {},
     "output_type": "execute_result"
    },
    {
     "data": {
      "image/png": "[encoded data removed]",
      "text/plain": [
       "<Figure size 432x288 with 1 Axes>"
      ]
     },
     "metadata": {
      "needs_background": "light"
     },
     "output_type": "display_data"
    }
   ],
   "source": [
    "plt.plot(df_a.Datetime, hits)\n",
    "plt.xticks(rotation=90)"
   ]
  },
  {
   "cell_type": "code",
   "execution_count": 47,
   "metadata": {},
   "outputs": [],
   "source": [
    "hitsa = df_a.groupby(df_a.Datetime.dt.hour).cumsum()"
   ]
  },
  {
   "cell_type": "code",
   "execution_count": 51,
   "metadata": {},
   "outputs": [
    {
     "data": {
      "text/plain": [
       "[<matplotlib.lines.Line2D at 0x1a250bbc10>,\n",
       " <matplotlib.lines.Line2D at 0x1a2506a2d0>,\n",
       " <matplotlib.lines.Line2D at 0x1a2506a490>]"
      ]
     },
     "execution_count": 51,
     "metadata": {},
     "output_type": "execute_result"
    },
    {
     "data": {
      "image/png": "[encoded data removed]",
      "text/plain": [
       "<Figure size 432x288 with 1 Axes>"
      ]
     },
     "metadata": {
      "needs_background": "light"
     },
     "output_type": "display_data"
    }
   ],
   "source": [
    "plt.plot(df_a.Datetime, hitsa,\"*\")\n"
   ]
  },
  {
   "cell_type": "code",
   "execution_count": 57,
   "metadata": {},
   "outputs": [
    {
     "data": {
      "text/plain": [
       "[<matplotlib.lines.Line2D at 0x1a2b390350>]"
      ]
     },
     "execution_count": 57,
     "metadata": {},
     "output_type": "execute_result"
    },
    {
     "data": {
      "image/png": "[encoded data removed]",
      "text/plain": [
       "<Figure size 432x288 with 1 Axes>"
      ]
     },
     "metadata": {
      "needs_background": "light"
     },
     "output_type": "display_data"
    }
   ],
   "source": [
    "df_b = df[df.Accession.str.contains('0001584509-16-000514')]\n",
    "df_b1 = df_b.groupby([df_b.Datetime.dt.hour,df_b.Accession]).max()\n",
    "plt.plot(df_b1.Datetime, df_b1.Counts_Hour)"
   ]
  },
  {
   "cell_type": "code",
   "execution_count": 58,
   "metadata": {},
   "outputs": [],
   "source": [
    "doc = '0001179110-17-005327'"
   ]
  },
  {
   "cell_type": "code",
   "execution_count": 60,
   "metadata": {},
   "outputs": [
    {
     "data": {
      "text/plain": [
       "[<matplotlib.lines.Line2D at 0x1a2b407850>]"
      ]
     },
     "execution_count": 60,
     "metadata": {},
     "output_type": "execute_result"
    },
    {
     "data": {
      "image/png": "[encoded data removed]",
      "text/plain": [
       "<Figure size 432x288 with 1 Axes>"
      ]
     },
     "metadata": {
      "needs_background": "light"
     },
     "output_type": "display_data"
    }
   ],
   "source": [
    "df_c = df[df.Accession.str.contains(doc)]\n",
    "df_c1 = df_c.groupby([df_c.Datetime.dt.hour,df_c.Accession]).max()\n",
    "plt.plot(df_c1.Datetime, df_c1.Counts_Hour)"
   ]
  },
  {
   "cell_type": "code",
   "execution_count": null,
   "metadata": {},
   "outputs": [],
   "source": []
  }
 ],
 "metadata": {
  "kernelspec": {
   "display_name": "Python 3",
   "language": "python",
   "name": "python3"
  },
  "language_info": {
   "codemirror_mode": {
    "name": "ipython",
    "version": 3
   },
   "file_extension": ".py",
   "mimetype": "text/x-python",
   "name": "python",
   "nbconvert_exporter": "python",
   "pygments_lexer": "ipython3",
   "version": "3.7.6"
  }
 },
 "nbformat": 4,
 "nbformat_minor": 4
}
